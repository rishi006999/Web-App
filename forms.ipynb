{
 "cells": [
  {
   "cell_type": "code",
   "execution_count": 2,
   "metadata": {},
   "outputs": [
    {
     "name": "stdout",
     "output_type": "stream",
     "text": [
      "Defaulting to user installation because normal site-packages is not writeable\n",
      "Collecting flask_wtf\n",
      "  Using cached flask_wtf-1.2.1-py3-none-any.whl (12 kB)\n",
      "Requirement already satisfied: flask in /Users/rishithakker/Library/Python/3.9/lib/python/site-packages (from flask_wtf) (3.0.3)\n",
      "Requirement already satisfied: itsdangerous in /Users/rishithakker/Library/Python/3.9/lib/python/site-packages (from flask_wtf) (2.2.0)\n",
      "Collecting wtforms\n",
      "  Using cached wtforms-3.1.2-py3-none-any.whl (145 kB)\n",
      "Requirement already satisfied: Jinja2>=3.1.2 in /Users/rishithakker/Library/Python/3.9/lib/python/site-packages (from flask->flask_wtf) (3.1.4)\n",
      "Requirement already satisfied: importlib-metadata>=3.6.0 in /Users/rishithakker/Library/Python/3.9/lib/python/site-packages (from flask->flask_wtf) (7.1.0)\n",
      "Requirement already satisfied: blinker>=1.6.2 in /Users/rishithakker/Library/Python/3.9/lib/python/site-packages (from flask->flask_wtf) (1.8.2)\n",
      "Requirement already satisfied: click>=8.1.3 in /Users/rishithakker/Library/Python/3.9/lib/python/site-packages (from flask->flask_wtf) (8.1.7)\n",
      "Requirement already satisfied: Werkzeug>=3.0.0 in /Users/rishithakker/Library/Python/3.9/lib/python/site-packages (from flask->flask_wtf) (3.0.3)\n",
      "Requirement already satisfied: zipp>=0.5 in /Users/rishithakker/Library/Python/3.9/lib/python/site-packages (from importlib-metadata>=3.6.0->flask->flask_wtf) (3.18.1)\n",
      "Requirement already satisfied: MarkupSafe>=2.0 in /Users/rishithakker/Library/Python/3.9/lib/python/site-packages (from Jinja2>=3.1.2->flask->flask_wtf) (2.1.5)\n",
      "Installing collected packages: wtforms, flask-wtf\n",
      "Successfully installed flask-wtf-1.2.1 wtforms-3.1.2\n",
      "\u001b[33mWARNING: You are using pip version 21.2.4; however, version 24.0 is available.\n",
      "You should consider upgrading via the '/Applications/Xcode.app/Contents/Developer/usr/bin/python3 -m pip install --upgrade pip' command.\u001b[0m\n",
      "Note: you may need to restart the kernel to use updated packages.\n"
     ]
    }
   ],
   "source": [
    "%pip install flask_wtf"
   ]
  },
  {
   "cell_type": "code",
   "execution_count": 3,
   "metadata": {},
   "outputs": [],
   "source": [
    "from flask_wtf import FlaskForm\n",
    "from wtforms import StringField, PasswordField, SubmitField, TextAreaField\n",
    "from wtforms.validators import DataRequired, Email, EqualTo\n",
    "\n",
    "class RegistrationForm(FlaskForm):\n",
    "    name = StringField('Name', validators=[DataRequired()])\n",
    "    email = StringField('Email', validators=[DataRequired(), Email()])\n",
    "    phone = StringField('Phone')\n",
    "    bio = TextAreaField('Bio')\n",
    "    password = PasswordField('Password', validators=[DataRequired()])\n",
    "    confirm_password = PasswordField('Confirm Password', validators=[DataRequired(), EqualTo('password')])\n",
    "    submit = SubmitField('Register')\n",
    "\n",
    "class LoginForm(FlaskForm):\n",
    "    email = StringField('Email', validators=[DataRequired(), Email()])\n",
    "    password = PasswordField('Password', validators=[DataRequired()])\n",
    "    submit = SubmitField('Login')\n",
    "\n",
    "class UserForm(FlaskForm):\n",
    "    name = StringField('Name', validators=[DataRequired()])\n",
    "    email = StringField('Email', validators=[DataRequired(), Email()])\n",
    "    phone = StringField('Phone')\n",
    "    bio = TextAreaField('Bio')\n",
    "    submit = SubmitField('Submit')\n"
   ]
  },
  {
   "cell_type": "code",
   "execution_count": 1,
   "metadata": {},
   "outputs": [
    {
     "name": "stdout",
     "output_type": "stream",
     "text": [
      "Defaulting to user installation because normal site-packages is not writeable\n",
      "Collecting cryptography\n",
      "  Downloading cryptography-42.0.7-cp39-abi3-macosx_10_12_universal2.whl (5.9 MB)\n",
      "\u001b[K     |████████████████████████████████| 5.9 MB 3.3 MB/s eta 0:00:01\n",
      "\u001b[?25hRequirement already satisfied: cffi>=1.12 in /Users/rishithakker/Library/Python/3.9/lib/python/site-packages (from cryptography) (1.16.0)\n",
      "Requirement already satisfied: pycparser in /Users/rishithakker/Library/Python/3.9/lib/python/site-packages (from cffi>=1.12->cryptography) (2.22)\n",
      "Installing collected packages: cryptography\n",
      "Successfully installed cryptography-42.0.7\n",
      "\u001b[33mWARNING: You are using pip version 21.2.4; however, version 24.0 is available.\n",
      "You should consider upgrading via the '/Applications/Xcode.app/Contents/Developer/usr/bin/python3 -m pip install --upgrade pip' command.\u001b[0m\n",
      "Note: you may need to restart the kernel to use updated packages.\n"
     ]
    }
   ],
   "source": [
    "%pip install cryptography"
   ]
  }
 ],
 "metadata": {
  "kernelspec": {
   "display_name": "Python 3",
   "language": "python",
   "name": "python3"
  },
  "language_info": {
   "codemirror_mode": {
    "name": "ipython",
    "version": 3
   },
   "file_extension": ".py",
   "mimetype": "text/x-python",
   "name": "python",
   "nbconvert_exporter": "python",
   "pygments_lexer": "ipython3",
   "version": "3.9.6"
  }
 },
 "nbformat": 4,
 "nbformat_minor": 2
}
