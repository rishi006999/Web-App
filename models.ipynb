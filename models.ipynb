{
 "cells": [
  {
   "cell_type": "code",
   "execution_count": 9,
   "metadata": {},
   "outputs": [
    {
     "name": "stdout",
     "output_type": "stream",
     "text": [
      "Defaulting to user installation because normal site-packages is not writeable\n",
      "Collecting flask-sqlalchemy\n",
      "  Using cached flask_sqlalchemy-3.1.1-py3-none-any.whl (25 kB)\n",
      "Collecting sqlalchemy>=2.0.16\n",
      "  Downloading SQLAlchemy-2.0.30-cp39-cp39-macosx_11_0_arm64.whl (2.1 MB)\n",
      "\u001b[K     |████████████████████████████████| 2.1 MB 5.5 MB/s eta 0:00:01\n",
      "\u001b[?25hCollecting flask>=2.2.5\n",
      "  Using cached flask-3.0.3-py3-none-any.whl (101 kB)\n",
      "Collecting blinker>=1.6.2\n",
      "  Using cached blinker-1.8.2-py3-none-any.whl (9.5 kB)\n",
      "Collecting Werkzeug>=3.0.0\n",
      "  Using cached werkzeug-3.0.3-py3-none-any.whl (227 kB)\n",
      "Requirement already satisfied: Jinja2>=3.1.2 in /Users/rishithakker/Library/Python/3.9/lib/python/site-packages (from flask>=2.2.5->flask-sqlalchemy) (3.1.4)\n",
      "Requirement already satisfied: importlib-metadata>=3.6.0 in /Users/rishithakker/Library/Python/3.9/lib/python/site-packages (from flask>=2.2.5->flask-sqlalchemy) (7.1.0)\n",
      "Collecting click>=8.1.3\n",
      "  Using cached click-8.1.7-py3-none-any.whl (97 kB)\n",
      "Collecting itsdangerous>=2.1.2\n",
      "  Using cached itsdangerous-2.2.0-py3-none-any.whl (16 kB)\n",
      "Requirement already satisfied: zipp>=0.5 in /Users/rishithakker/Library/Python/3.9/lib/python/site-packages (from importlib-metadata>=3.6.0->flask>=2.2.5->flask-sqlalchemy) (3.18.1)\n",
      "Requirement already satisfied: MarkupSafe>=2.0 in /Users/rishithakker/Library/Python/3.9/lib/python/site-packages (from Jinja2>=3.1.2->flask>=2.2.5->flask-sqlalchemy) (2.1.5)\n",
      "Requirement already satisfied: typing-extensions>=4.6.0 in /Users/rishithakker/Library/Python/3.9/lib/python/site-packages (from sqlalchemy>=2.0.16->flask-sqlalchemy) (4.11.0)\n",
      "Installing collected packages: Werkzeug, itsdangerous, click, blinker, sqlalchemy, flask, flask-sqlalchemy\n",
      "Successfully installed Werkzeug-3.0.3 blinker-1.8.2 click-8.1.7 flask-3.0.3 flask-sqlalchemy-3.1.1 itsdangerous-2.2.0 sqlalchemy-2.0.30\n",
      "\u001b[33mWARNING: You are using pip version 21.2.4; however, version 24.0 is available.\n",
      "You should consider upgrading via the '/Applications/Xcode.app/Contents/Developer/usr/bin/python3 -m pip install --upgrade pip' command.\u001b[0m\n",
      "Note: you may need to restart the kernel to use updated packages.\n"
     ]
    }
   ],
   "source": [
    "%pip install flask-sqlalchemy"
   ]
  },
  {
   "cell_type": "code",
   "execution_count": 11,
   "metadata": {},
   "outputs": [
    {
     "name": "stdout",
     "output_type": "stream",
     "text": [
      "Defaulting to user installation because normal site-packages is not writeable\n",
      "Collecting flask_login\n",
      "  Using cached Flask_Login-0.6.3-py3-none-any.whl (17 kB)\n",
      "Requirement already satisfied: Werkzeug>=1.0.1 in /Users/rishithakker/Library/Python/3.9/lib/python/site-packages (from flask_login) (3.0.3)\n",
      "Requirement already satisfied: Flask>=1.0.4 in /Users/rishithakker/Library/Python/3.9/lib/python/site-packages (from flask_login) (3.0.3)\n",
      "Requirement already satisfied: Jinja2>=3.1.2 in /Users/rishithakker/Library/Python/3.9/lib/python/site-packages (from Flask>=1.0.4->flask_login) (3.1.4)\n",
      "Requirement already satisfied: click>=8.1.3 in /Users/rishithakker/Library/Python/3.9/lib/python/site-packages (from Flask>=1.0.4->flask_login) (8.1.7)\n",
      "Requirement already satisfied: blinker>=1.6.2 in /Users/rishithakker/Library/Python/3.9/lib/python/site-packages (from Flask>=1.0.4->flask_login) (1.8.2)\n",
      "Requirement already satisfied: itsdangerous>=2.1.2 in /Users/rishithakker/Library/Python/3.9/lib/python/site-packages (from Flask>=1.0.4->flask_login) (2.2.0)\n",
      "Requirement already satisfied: importlib-metadata>=3.6.0 in /Users/rishithakker/Library/Python/3.9/lib/python/site-packages (from Flask>=1.0.4->flask_login) (7.1.0)\n",
      "Requirement already satisfied: zipp>=0.5 in /Users/rishithakker/Library/Python/3.9/lib/python/site-packages (from importlib-metadata>=3.6.0->Flask>=1.0.4->flask_login) (3.18.1)\n",
      "Requirement already satisfied: MarkupSafe>=2.0 in /Users/rishithakker/Library/Python/3.9/lib/python/site-packages (from Jinja2>=3.1.2->Flask>=1.0.4->flask_login) (2.1.5)\n",
      "Installing collected packages: flask-login\n",
      "Successfully installed flask-login-0.6.3\n",
      "\u001b[33mWARNING: You are using pip version 21.2.4; however, version 24.0 is available.\n",
      "You should consider upgrading via the '/Applications/Xcode.app/Contents/Developer/usr/bin/python3 -m pip install --upgrade pip' command.\u001b[0m\n",
      "Note: you may need to restart the kernel to use updated packages.\n"
     ]
    }
   ],
   "source": [
    "%pip install flask_login"
   ]
  },
  {
   "cell_type": "code",
   "execution_count": 12,
   "metadata": {},
   "outputs": [],
   "source": [
    "from flask_sqlalchemy import SQLAlchemy\n",
    "from flask_login import UserMixin\n",
    "\n",
    "db = SQLAlchemy()\n",
    "\n",
    "class User(UserMixin, db.Model):\n",
    "    id = db.Column(db.Integer, primary_key=True)\n",
    "    name = db.Column(db.String(100), nullable=False)\n",
    "    email = db.Column(db.String(100), nullable=False, unique=True)\n",
    "    phone = db.Column(db.String(15))\n",
    "    bio = db.Column(db.Text)\n",
    "    password = db.Column(db.String(100), nullable=False)\n"
   ]
  }
 ],
 "metadata": {
  "kernelspec": {
   "display_name": "Python 3",
   "language": "python",
   "name": "python3"
  },
  "language_info": {
   "codemirror_mode": {
    "name": "ipython",
    "version": 3
   },
   "file_extension": ".py",
   "mimetype": "text/x-python",
   "name": "python",
   "nbconvert_exporter": "python",
   "pygments_lexer": "ipython3",
   "version": "3.9.6"
  }
 },
 "nbformat": 4,
 "nbformat_minor": 2
}
